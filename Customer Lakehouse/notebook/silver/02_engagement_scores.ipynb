# 📌 Logging Setup (Always at the top)
import logging
try:
    dbutils.widgets.text("log_level", "INFO")
    log_level = dbutils.widgets.get("log_level")
except:
    log_level = "INFO"

logging.basicConfig(level=log_level, format="%(asctime)s - %(name)s - %(levelname)s - %(message)s")
logger = logging.getLogger(__name__)
logger.info(f"Notebook started with log level: {log_level}")

# 📌 Engagement Score Calculation Logic

logger.info("Loading Bronze Engagement Events...")

engagement_bronze = spark.table("bronze.engagement_events")

# 🛠️ Debug: Validate Engagement Events load
engagement_bronze.select("ActivityType").distinct().show()
logger.info("Bronze Engagement Events loaded successfully.")

# Define scoring weights
weights = {
    "Login": 10,
    "Feature Use": 20,
    "Support Ticket": 5,
    "Logout": 0
}

from pyspark.sql.functions import sum as sum_, expr

logger.info("Calculating Engagement Scores...")

# Apply scoring weights
engagement_scored = (
    engagement_bronze
    .withColumn("Score", expr(f"CASE ActivityType "
                              f"WHEN 'Login' THEN {weights['Login']} "
                              f"WHEN 'Feature Use' THEN {weights['Feature Use']} "
                              f"WHEN 'Support Ticket' THEN {weights['Support Ticket']} "
                              f"WHEN 'Logout' THEN {weights['Logout']} "
                              f"END"))
    .groupBy("CustomerID")
    .agg(sum_("Score").alias("EngagementScore"))
)

# 🛠️ Debug: Validate Engagement Scores
engagement_scored.describe("EngagementScore").show()
logger.info("Engagement Scores calculated successfully.")

# Write to Silver
engagement_scored.write.format("delta").mode("overwrite").saveAsTable("silver.customer_engagement_scores")
logger.info("Engagement Scores table written to silver.customer_engagement_scores.")
