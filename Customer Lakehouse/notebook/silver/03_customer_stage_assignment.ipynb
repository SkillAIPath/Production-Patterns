# 📌 Logging Setup (Always at the top)
import logging
try:
    dbutils.widgets.text("log_level", "INFO")
    log_level = dbutils.widgets.get("log_level")
except:
    log_level = "INFO"

logging.basicConfig(level=log_level, format="%(asctime)s - %(name)s - %(levelname)s - %(message)s")
logger = logging.getLogger(__name__)
logger.info(f"Notebook started with log level: {log_level}")

# 📌 Customer Stage Assignment Logic

logger.info("Loading Silver Tables...")

customer_lifecycle = spark.table("silver.customers_lifecycle")
engagement_scores = spark.table("silver.customer_engagement_scores")

# 🛠️ Debug: Validate Silver Tables load
customer_lifecycle.groupBy("LifecycleStage").count().show()
logger.info("Customer Lifecycle table loaded.")
engagement_scores.describe("EngagementScore").show()
logger.info("Engagement Scores table loaded.")

# Merge Stages + Scores
logger.info("Merging Lifecycle Stages with Engagement Scores...")

from pyspark.sql.functions import coalesce, lit

customer_profile = (
    customer_lifecycle.join(engagement_scores, "CustomerID", "left")
    .withColumn("EngagementScore", coalesce(col("EngagementScore"), lit(0)))
)

# 🛠️ Debug: Validate merged profile
customer_profile.select("CustomerID", "LifecycleStage", "EngagementScore").show(5)
logger.info("Customer Profile merged successfully.")

# Write consolidated profile to Silver
customer_profile.write.format("delta").mode("overwrite").saveAsTable("silver.customer_profile")
logger.info("Customer Profile table written to silver.customer_profile.")
