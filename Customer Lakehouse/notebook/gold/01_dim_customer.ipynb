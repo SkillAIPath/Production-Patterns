# 📌 Logging Setup
import logging
try:
    dbutils.widgets.text("log_level", "INFO")
    log_level = dbutils.widgets.get("log_level")
except:
    log_level = "INFO"

logging.basicConfig(level=log_level, format="%(asctime)s - %(name)s - %(levelname)s - %(message)s")
logger = logging.getLogger(__name__)
logger.info(f"Notebook started with log level: {log_level}")

# 📌 Load Silver Data
customers_silver = spark.table("silver.customer_profile")

# Implement SCD Type 2 (track region/plan changes)
from pyspark.sql.functions import current_date, lit

logger.info("Preparing DimCustomer SCD-2...")

dim_customer = (
    customers_silver
    .withColumn("EffectiveFrom", current_date())
    .withColumn("EffectiveTo", lit(None).cast("date"))
    .withColumn("IsCurrent", lit(True))
)

# 🛠️ Debug
dim_customer.select("CustomerID", "Region", "SubscriptionPlan").show(5)
logger.info("DimCustomer prepared.")

dim_customer.write.format("delta").mode("overwrite").saveAsTable("gold.dim_customer")
logger.info("DimCustomer table written to gold.dim_customer.")
