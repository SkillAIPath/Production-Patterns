# 📌 Bronze Layer Ingestion (NO data generation here)

# Paths for CSVs (assumes /dbfs/tmp/ or mounted location)
customers_csv = "/dbfs/tmp/customers.csv"

# 1️⃣ Load Customers CSV
customers_df = (
    spark.read.format("csv")
    .option("header", True)
    .option("inferSchema", True)
    .load(customers_csv)
)

# 🛠️ Debug: Check schema & sample
customers_df.printSchema()
customers_df.show(5)

# Write Customers to Bronze Delta
customers_df.write.format("delta").mode("overwrite").saveAsTable("bronze.customers")

# ------------------------------------------------------------

# 2️⃣ Load Transactions & Engagement Delta Tables from /data/generators/ (Raw Unpartitioned)

# Transactions (No schema changes)
transactions_df = spark.read.format("delta").load("/mnt/data/generators/transactions_raw")

# 🛠️ Debug: Validate Transactions
transactions_df.select("PaymentMethod").distinct().show()

# Write Transactions to Bronze Delta (Partitioned by TransactionDate)
transactions_df.write.format("delta").mode("overwrite").partitionBy("TransactionDate").saveAsTable("bronze.transactions")

# ------------------------------------------------------------

# Engagement Events
engagement_df = spark.read.format("delta").load("/mnt/data/generators/engagement_raw")

# 🛠️ Debug: Validate Engagement Events
engagement_df.groupBy("ActivityType").count().show()

# Write Engagement Events to Bronze Delta (Partitioned by ActivityDate)
engagement_df.write.format("delta").mode("overwrite").partitionBy("ActivityDate").saveAsTable("bronze.engagement_events")
