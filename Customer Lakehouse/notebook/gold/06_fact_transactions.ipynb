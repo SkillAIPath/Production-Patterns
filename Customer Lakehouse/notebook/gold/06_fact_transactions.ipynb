# 📌 Logging Setup
import logging
try:
    dbutils.widgets.text("log_level", "INFO")
    log_level = dbutils.widgets.get("log_level")
except:
    log_level = "INFO"

logging.basicConfig(level=log_level, format="%(asctime)s - %(name)s - %(levelname)s - %(message)s")
logger = logging.getLogger(__name__)
logger.info(f"Notebook started with log level: {log_level}")

# 📌 Load Bronze Transactions
transactions_bronze = spark.table("bronze.transactions")

logger.info("Preparing FactTransactions...")

# 🛠️ Debug
transactions_bronze.groupBy("PaymentMethod").count().show()

transactions_bronze.write.format("delta").mode("overwrite").partitionBy("TransactionDate").saveAsTable("gold.fact_transactions")
logger.info("FactTransactions table written to gold.fact_transactions.")
