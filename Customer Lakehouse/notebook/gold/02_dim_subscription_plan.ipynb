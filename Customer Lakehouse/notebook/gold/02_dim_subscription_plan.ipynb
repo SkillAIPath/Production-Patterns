# 📌 Logging Setup
import logging
try:
    dbutils.widgets.text("log_level", "INFO")
    log_level = dbutils.widgets.get("log_level")
except:
    log_level = "INFO"

logging.basicConfig(level=log_level, format="%(asctime)s - %(name)s - %(levelname)s - %(message)s")
logger = logging.getLogger(__name__)
logger.info(f"Notebook started with log level: {log_level}")

# 📌 Load Static CSV (Subscription Plans)
subscription_static = spark.read.format("csv").option("header", True).load("/dbfs/tmp/subscription_plans.csv")

logger.info("Preparing DimSubscriptionPlan SCD-3...")

from pyspark.sql.functions import current_date

dim_subscription = (
    subscription_static
    .withColumn("EffectiveDate", current_date())
)

# 🛠️ Debug
dim_subscription.show()
logger.info("DimSubscriptionPlan prepared.")

dim_subscription.write.format("delta").mode("overwrite").saveAsTable("gold.dim_subscription_plan")
logger.info("DimSubscriptionPlan table written to gold.dim_subscription_plan.")
