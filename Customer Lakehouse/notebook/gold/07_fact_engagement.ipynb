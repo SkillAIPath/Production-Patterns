# 📌 Logging Setup
import logging
try:
    dbutils.widgets.text("log_level", "INFO")
    log_level = dbutils.widgets.get("log_level")
except:
    log_level = "INFO"

logging.basicConfig(level=log_level, format="%(asctime)s - %(name)s - %(levelname)s - %(message)s")
logger = logging.getLogger(__name__)
logger.info(f"Notebook started with log level: {log_level}")

# 📌 Load Silver Engagement Scores
engagement_scores = spark.table("silver.customer_engagement_scores")

logger.info("Preparing FactEngagement...")

# 🛠️ Debug
engagement_scores.describe("EngagementScore").show()

engagement_scores.write.format("delta").mode("overwrite").saveAsTable("gold.fact_engagement")
logger.info("FactEngagement table written to gold.fact_engagement.")
