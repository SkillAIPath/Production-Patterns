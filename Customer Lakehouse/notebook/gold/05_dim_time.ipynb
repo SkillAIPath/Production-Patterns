# 📌 Logging Setup
import logging
try:
    dbutils.widgets.text("log_level", "INFO")
    log_level = dbutils.widgets.get("log_level")
except:
    log_level = "INFO"

logging.basicConfig(level=log_level, format="%(asctime)s - %(name)s - %(levelname)s - %(message)s")
logger = logging.getLogger(__name__)
logger.info(f"Notebook started with log level: {log_level}")

# 📌 Generate DimTime (Date Dimension)
from pyspark.sql.functions import sequence, explode, to_date, col, year, month, dayofmonth, quarter, dayofweek, date_format

logger.info("Generating DimTime...")

date_df = (
    spark.range(0,1)
    .select(sequence(to_date(lit("2020-01-01")), to_date(lit("2030-12-31"))).alias("Date"))
    .select(explode(col("Date")).alias("Date"))
    .withColumn("Day", dayofmonth("Date"))
    .withColumn("Week", weekofyear("Date"))
    .withColumn("Month", month("Date"))
    .withColumn("MonthName", date_format("Date", "MMMM"))
    .withColumn("Quarter", quarter("Date"))
    .withColumn("Year", year("Date"))
    .withColumn("DayOfWeek", dayofweek("Date"))
    .withColumn("IsWeekend", expr("DayOfWeek IN (1,7)"))
)

# 🛠️ Debug
date_df.show(5)
logger.info("DimTime generated.")

date_df.write.format("delta").mode("overwrite").saveAsTable("gold.dim_time")
logger.info("DimTime table written to gold.dim_time.")
