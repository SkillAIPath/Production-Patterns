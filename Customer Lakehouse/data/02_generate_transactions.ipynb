# 📌 Logging Setup (Always at the top)
import logging
try:
    dbutils.widgets.text("log_level", "INFO")
    log_level = dbutils.widgets.get("log_level")
except:
    log_level = "INFO"

logging.basicConfig(level=log_level, format="%(asctime)s - %(name)s - %(levelname)s - %(message)s")
logger = logging.getLogger(__name__)
logger.info(f"Notebook started with log level: {log_level}")

# 📌 Generate Transactions (dbldatagen)
from dbldatagen import DataGenerator

logger.info("Generating Transactions...")

transactions_spec = (
    DataGenerator(spark, rows=10_000_000, partitions=16)
    .withColumn("TransactionID", "string", expr="concat('T', id + 1000)")
    .withColumn("CustomerID", "string", expr="concat('C', cast(rand() * 100_000 + 1000 as int))")
    .withColumn("ProductID", "string", values=["P001", "P002", "P003"])
    .withColumn("Amount", "decimal(10,2)", minValue=10, maxValue=500)
    .withColumn("TransactionDate", "date", start="2022-01-01", end="2024-12-31")
    .withColumn("PaymentMethod", "string", values=["Credit Card", "UPI", "Bank Transfer", "Wallet"])
    .withColumn("Currency", "string", values=["INR", "SGD", "AUD", "MYR"])
    .withColumn("AgentID", "string", values=["A001", "A002", "A003"])
)
transactions_df = transactions_spec.build()

# 🛠️ Debug: Validate transactions
transactions_df.select("PaymentMethod").distinct().show()
logger.info("Transactions generated successfully.")

# Write as Delta (raw path)
transactions_df.write.format("delta").mode("overwrite").save("/mnt/data/generators/transactions_raw")
logger.info("Transactions written to raw path.")
