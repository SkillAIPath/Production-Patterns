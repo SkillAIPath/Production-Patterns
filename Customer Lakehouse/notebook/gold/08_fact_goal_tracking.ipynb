# 📌 Logging Setup
import logging
try:
    dbutils.widgets.text("log_level", "INFO")
    log_level = dbutils.widgets.get("log_level")
except:
    log_level = "INFO"

logging.basicConfig(level=log_level, format="%(asctime)s - %(name)s - %(levelname)s - %(message)s")
logger = logging.getLogger(__name__)
logger.info(f"Notebook started with log level: {log_level}")

# 📌 Prepare FactGoalTracking (mock data)
from pyspark.sql import Row

logger.info("Preparing FactGoalTracking...")

goal_data = [
    Row(Timeframe="2024-Q1", Metric="MRR", Target=120000, Actual=115000),
    Row(Timeframe="2024-Q1", Metric="Retention", Target=90, Actual=87),
    Row(Timeframe="2024-Q2", Metric="MRR", Target=130000, Actual=125000)
]

fact_goal_tracking = spark.createDataFrame(goal_data)

# 🛠️ Debug
fact_goal_tracking.show()

fact_goal_tracking.write.format("delta").mode("overwrite").saveAsTable("gold.fact_goal_tracking")
logger.info("FactGoalTracking table written to gold.fact_goal_tracking.")
