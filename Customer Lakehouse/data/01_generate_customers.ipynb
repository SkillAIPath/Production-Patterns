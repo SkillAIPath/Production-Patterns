# 📌 Logging Setup (Always at the top)
import logging
try:
    dbutils.widgets.text("log_level", "INFO")
    log_level = dbutils.widgets.get("log_level")
except:
    log_level = "INFO"

logging.basicConfig(level=log_level, format="%(asctime)s - %(name)s - %(levelname)s - %(message)s")
logger = logging.getLogger(__name__)
logger.info(f"Notebook started with log level: {log_level}")

# 📌 Generate Customers (Faker enriched)
from faker import Faker
from pyspark.sql import Row
import random

fake = Faker('en_IN')

logger.info("Generating Customers...")

customer_rows = [
    Row(
        CustomerID=f'C{1000 + i}',
        Name=fake.name(),
        Email=fake.email(),
        Gender=random.choice(['Male', 'Female']),
        JoinDate=fake.date_between(start_date='-3y', end_date='today').strftime('%Y-%m-%d'),
        Region=random.choice(['India', 'Singapore', 'Australia', 'Malaysia']),
        Channel=random.choice(['Web', 'Mobile', 'Referral']),
        SubscriptionPlan=random.choice(['Basic', 'Pro', 'Enterprise'])
    )
    for i in range(100_000)
]
customers_df = spark.createDataFrame(customer_rows)

# 🛠️ Debug: Validate customer data
customers_df.groupBy("Region").count().show()
logger.info("Customers generated successfully.")

# Write as Delta (raw path)
customers_df.write.format("delta").mode("overwrite").save("/mnt/data/generators/customers_raw")
logger.info("Customers written to raw path.")
