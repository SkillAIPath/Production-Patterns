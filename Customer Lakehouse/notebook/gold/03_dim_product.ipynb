# 📌 Logging Setup
import logging
try:
    dbutils.widgets.text("log_level", "INFO")
    log_level = dbutils.widgets.get("log_level")
except:
    log_level = "INFO"

logging.basicConfig(level=log_level, format="%(asctime)s - %(name)s - %(levelname)s - %(message)s")
logger = logging.getLogger(__name__)
logger.info(f"Notebook started with log level: {log_level}")

# 📌 Load Static CSV (Products)
products_static = spark.read.format("csv").option("header", True).load("/dbfs/tmp/products.csv")

logger.info("Preparing DimProduct...")

# 🛠️ Debug
products_static.show()
logger.info("DimProduct prepared.")

products_static.write.format("delta").mode("overwrite").saveAsTable("gold.dim_product")
logger.info("DimProduct table written to gold.dim_product.")
