# 📌 Logging Setup (Always at the top)
import logging
try:
    dbutils.widgets.text("log_level", "INFO")
    log_level = dbutils.widgets.get("log_level")
except:
    log_level = "INFO"

logging.basicConfig(level=log_level, format="%(asctime)s - %(name)s - %(levelname)s - %(message)s")
logger = logging.getLogger(__name__)
logger.info(f"Notebook started with log level: {log_level}")

# 📌 Generate Engagement Events (dbldatagen)
from dbldatagen import DataGenerator

logger.info("Generating Engagement Events...")

engagement_spec = (
    DataGenerator(spark, rows=5_000_000, partitions=8)
    .withColumn("ActivityID", "string", expr="concat('A', id + 1000)")
    .withColumn("CustomerID", "string", expr="concat('C', cast(rand() * 100_000 + 1000 as int))")
    .withColumn("ActivityType", "string", values=["Login", "Feature Use", "Support Ticket", "Logout"])
    .withColumn("ActivityDate", "date", start="2023-01-01", end="2024-12-31")
    .withColumn("SessionDuration", "integer", minValue=1, maxValue=60)
    .withColumn("DeviceType", "string", values=["Mobile", "Desktop", "Tablet"])
    .withColumn("FeatureUsed", "string", values=["Dashboard", "Reports", "Chatbot", "Billing"])
)
engagement_df = engagement_spec.build()

# 🛠️ Debug: Validate engagement events
engagement_df.groupBy("ActivityType").count().show()
logger.info("Engagement events generated successfully.")

# Write as Delta (raw path)
engagement_df.write.format("delta").mode("overwrite").save("/mnt/data/generators/engagement_raw")
logger.info("Engagement events written to raw path.")
